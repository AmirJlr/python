{
 "cells": [
  {
   "cell_type": "code",
   "execution_count": 1,
   "metadata": {},
   "outputs": [],
   "source": [
    "import random"
   ]
  },
  {
   "cell_type": "code",
   "execution_count": null,
   "metadata": {},
   "outputs": [],
   "source": [
    "#Head & Tail in coin and dice\n",
    "n = int(input())\n",
    "s=0\n",
    "for i in range(n):\n",
    "    x=random.randint(1,6)\n",
    "    s+=x\n",
    "print(f\"sum is : {s}\")\n",
    "print(f\"mean is {s/n}\")"
   ]
  },
  {
   "cell_type": "code",
   "execution_count": null,
   "metadata": {},
   "outputs": [],
   "source": [
    "#Gambler\n",
    "#state1\n",
    "\n",
    "stake = int(input('Enter initial stake :'))\n",
    "goal = int(input('your goal :'))\n",
    "\n",
    "bets=1\n",
    "while 0<stake<goal:\n",
    "    print(f\"number {bets}\")\n",
    "    \n",
    "    x =random.randint(0,1)\n",
    "    if x ==1:\n",
    "        stake +=1\n",
    "        print('Head',f\"stake is {stake}\")\n",
    "    elif x==0:\n",
    "        stake -=1\n",
    "        print('Tail',f\"stake is {stake}\")\n",
    "    bets+=1\n",
    "\n",
    "print('End====')\n",
    "print(f\"number of Bets: {bets}\")\n",
    "if stake == 0:\n",
    "    print('lose')\n",
    "elif stake == goal:\n",
    "    print('win!')"
   ]
  },
  {
   "cell_type": "code",
   "execution_count": 3,
   "metadata": {},
   "outputs": [
    {
     "name": "stdout",
     "output_type": "stream",
     "text": [
      "Enter initial stake :10\n",
      "your goal :20\n",
      "trials :1000\n",
      "Chance of winning : 100 %\n",
      "Expected Bets : 0\n"
     ]
    }
   ],
   "source": [
    "stake = int(input('Enter initial stake :'))\n",
    "goal = int(input('your goal :'))\n",
    "trials = int(input('trials :'))\n",
    "\n",
    "bets = 0\n",
    "wins = 0\n",
    "\n",
    "for t in range(trials):\n",
    "    while 0<stake<goal:\n",
    "\n",
    "        if random.randint(0,1) ==1:\n",
    "            stake +=1\n",
    "        else:\n",
    "            stake -=1\n",
    "            \n",
    "        bets+=1\n",
    "\n",
    "    if stake == goal:\n",
    "        wins +=1\n",
    "print(f\"Chance of winning : {(wins//trials)*100} %\")\n",
    "print(f\"Expected Bets : {bets//trials}\")"
   ]
  },
  {
   "cell_type": "code",
   "execution_count": null,
   "metadata": {},
   "outputs": [],
   "source": []
  }
 ],
 "metadata": {
  "kernelspec": {
   "display_name": "Python 3",
   "language": "python",
   "name": "python3"
  },
  "language_info": {
   "codemirror_mode": {
    "name": "ipython",
    "version": 3
   },
   "file_extension": ".py",
   "mimetype": "text/x-python",
   "name": "python",
   "nbconvert_exporter": "python",
   "pygments_lexer": "ipython3",
   "version": "3.8.5"
  }
 },
 "nbformat": 4,
 "nbformat_minor": 4
}
