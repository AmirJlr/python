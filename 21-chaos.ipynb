{
 "cells": [
  {
   "cell_type": "code",
   "execution_count": null,
   "metadata": {},
   "outputs": [],
   "source": [
    "#choas\n",
    "import random,stddraw\n",
    "from stddraw import RED,GREEN,BLUE\n",
    "\n",
    "n=int(input('Enter n:'))\n",
    "\n",
    "cx=[0,1,0.5]\n",
    "cy=[0,0,0.866]\n",
    "colors=[RED,GREEN,BLUE]\n",
    "\n",
    "stddraw.line(cx[0],cy[0],cx[1],cy[1])\n",
    "stddraw.line(cx[1],cy[1],cx[2],cy[2])\n",
    "stddraw.line(cx[2],cy[2],cx[0],cy[0])\n",
    "\n",
    "\n",
    "x,y = 0,0\n",
    "\n",
    "for i in range(n):\n",
    "    r = random.randrange(0,3)\n",
    "    x = (x + cx[r])/2\n",
    "    y = (y + cy[r])/2\n",
    "    stddraw.setPenColor(colors[r])\n",
    "    \n",
    "    stddraw.point(x,y)\n",
    "    \n",
    "    #animate\n",
    "    stddraw.show(10)\n",
    "\n",
    "stddraw.show()"
   ]
  },
  {
   "cell_type": "code",
   "execution_count": 1,
   "metadata": {},
   "outputs": [
    {
     "name": "stdout",
     "output_type": "stream",
     "text": [
      "pygame 2.1.2 (SDL 2.0.18, Python 3.8.5)\n",
      "Hello from the pygame community. https://www.pygame.org/contribute.html\n",
      "Enter n:100000\n"
     ]
    },
    {
     "ename": "SystemExit",
     "evalue": "",
     "output_type": "error",
     "traceback": [
      "An exception has occurred, use %tb to see the full traceback.\n",
      "\u001b[1;31mSystemExit\u001b[0m\n"
     ]
    },
    {
     "name": "stderr",
     "output_type": "stream",
     "text": [
      "C:\\Users\\Special One\\anaconda3\\lib\\site-packages\\IPython\\core\\interactiveshell.py:3426: UserWarning: To exit: use 'exit', 'quit', or Ctrl-D.\n",
      "  warn(\"To exit: use 'exit', 'quit', or Ctrl-D.\", stacklevel=1)\n"
     ]
    }
   ],
   "source": [
    "#Barnsley\n",
    "import random\n",
    "import stddraw\n",
    "from stddraw import GREEN\n",
    "\n",
    "n= int(input('Enter n:'))\n",
    "x,y = 0,0\n",
    "\n",
    "for i in range(n):\n",
    "    \n",
    "    r = random.random()\n",
    "    if r <.02:\n",
    "        x= 0.5\n",
    "        y = 0.27*y\n",
    "        \n",
    "    elif r < 0.17:\n",
    "        x= -0.14*x + 0.26*y + 0.57\n",
    "        y=0.25*x + 0.22*y -0.04\n",
    "        \n",
    "    elif r < 0.3:\n",
    "        x= 0.17*x - 0.21*y + 0.41\n",
    "        y=0.22*x + 0.18*y + 0.09\n",
    "    \n",
    "    else :\n",
    "        x= 0.78*x + 0.03*y + 0.11\n",
    "        y= -0.03*x + 0.74*y +0.27\n",
    "    \n",
    "    stddraw.setPenColor(GREEN)\n",
    "    stddraw.point(x,y)\n",
    "    stddraw.show(1)\n",
    "    \n",
    "stddraw.show()\n",
    "        "
   ]
  },
  {
   "cell_type": "code",
   "execution_count": null,
   "metadata": {},
   "outputs": [],
   "source": []
  }
 ],
 "metadata": {
  "kernelspec": {
   "display_name": "Python 3",
   "language": "python",
   "name": "python3"
  },
  "language_info": {
   "codemirror_mode": {
    "name": "ipython",
    "version": 3
   },
   "file_extension": ".py",
   "mimetype": "text/x-python",
   "name": "python",
   "nbconvert_exporter": "python",
   "pygments_lexer": "ipython3",
   "version": "3.8.5"
  }
 },
 "nbformat": 4,
 "nbformat_minor": 4
}
