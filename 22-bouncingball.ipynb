{
 "cells": [
  {
   "cell_type": "code",
   "execution_count": 1,
   "metadata": {},
   "outputs": [
    {
     "name": "stdout",
     "output_type": "stream",
     "text": [
      "pygame 2.1.2 (SDL 2.0.18, Python 3.8.5)\n",
      "Hello from the pygame community. https://www.pygame.org/contribute.html\n"
     ]
    },
    {
     "ename": "SystemExit",
     "evalue": "",
     "output_type": "error",
     "traceback": [
      "An exception has occurred, use %tb to see the full traceback.\n",
      "\u001b[1;31mSystemExit\u001b[0m\n"
     ]
    },
    {
     "name": "stderr",
     "output_type": "stream",
     "text": [
      "C:\\Users\\Special One\\anaconda3\\lib\\site-packages\\IPython\\core\\interactiveshell.py:3426: UserWarning: To exit: use 'exit', 'quit', or Ctrl-D.\n",
      "  warn(\"To exit: use 'exit', 'quit', or Ctrl-D.\", stacklevel=1)\n"
     ]
    }
   ],
   "source": [
    "import stddraw\n",
    "\n",
    "RADIUS, DT = 0.05,15\n",
    "\n",
    "stddraw.setXscale(-1,+1)\n",
    "stddraw.setYscale(-1,+1)\n",
    "\n",
    "#initial \n",
    "rx , ry = 0.48 , 0.86\n",
    "vx , vy = 0.015 , 0.023 \n",
    "\n",
    "while True:\n",
    "    if abs(rx+vx) + RADIUS >1 : vx=-vx\n",
    "    if abs(ry+vy) + RADIUS >1 : vy=-vy\n",
    "        \n",
    "    stddraw.clear(stddraw.GRAY)\n",
    "    \n",
    "    rx += vx\n",
    "    ry += vy\n",
    "    \n",
    "    stddraw.filledCircle(rx,ry,RADIUS)\n",
    "    stddraw.show(DT)\n",
    "    "
   ]
  }
 ],
 "metadata": {
  "kernelspec": {
   "display_name": "Python 3",
   "language": "python",
   "name": "python3"
  },
  "language_info": {
   "codemirror_mode": {
    "name": "ipython",
    "version": 3
   },
   "file_extension": ".py",
   "mimetype": "text/x-python",
   "name": "python",
   "nbconvert_exporter": "python",
   "pygments_lexer": "ipython3",
   "version": "3.8.5"
  }
 },
 "nbformat": 4,
 "nbformat_minor": 4
}
