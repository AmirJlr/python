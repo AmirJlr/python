{
 "cells": [
  {
   "cell_type": "code",
   "execution_count": 1,
   "metadata": {},
   "outputs": [],
   "source": [
    "import sys,random"
   ]
  },
  {
   "cell_type": "code",
   "execution_count": null,
   "metadata": {},
   "outputs": [
    {
     "name": "stdout",
     "output_type": "stream",
     "text": [
      "Enter n:10\n"
     ]
    }
   ],
   "source": [
    "# n = int(sys.argv[1])\n",
    "# trials = int(sys.argv[2])\n",
    "\n",
    "n=int(input('Enter n:'))\n",
    "trials=int(input('Enter trials:'))\n",
    "dead_ends= 0"
   ]
  },
  {
   "cell_type": "code",
   "execution_count": null,
   "metadata": {},
   "outputs": [],
   "source": [
    "for t in range(trials):\n",
    "    #create marix\n",
    "    a=[[False]*n for i in range(n)]\n",
    "    \n",
    "    #find start point\n",
    "    x,y = n//2,n//2\n",
    "    \n",
    "    while 0<x<n-1 and 0<y<n-1:\n",
    "        if a[x-1][y] and a[x+1][y] and a[x][y-1] and a[x][y+1]:\n",
    "            dead_ends +=1\n",
    "            break\n",
    "        \n",
    "        a[x][y] = True\n",
    "        \n",
    "        #a number beetwen(0,1)\n",
    "        r = random.random()\n",
    "        \n",
    "        if r < 0.25 :\n",
    "            if not a[x-1][y]: x-=1 #left\n",
    "        elif r < 0.5:\n",
    "            if not a[x+1][y]: x+=1 #right\n",
    "        elif r < 0.75:\n",
    "            if not a[x][y-1]: y-=1 #down\n",
    "        elif r < 1:\n",
    "            if not a[x][y+1]: y+=1 #up\n",
    "print(f\"dead ends: {100 * dead_ends//trials}\")"
   ]
  },
  {
   "cell_type": "code",
   "execution_count": null,
   "metadata": {},
   "outputs": [],
   "source": []
  },
  {
   "cell_type": "code",
   "execution_count": null,
   "metadata": {},
   "outputs": [],
   "source": []
  },
  {
   "cell_type": "code",
   "execution_count": null,
   "metadata": {},
   "outputs": [],
   "source": []
  },
  {
   "cell_type": "code",
   "execution_count": null,
   "metadata": {},
   "outputs": [],
   "source": []
  },
  {
   "cell_type": "code",
   "execution_count": null,
   "metadata": {},
   "outputs": [],
   "source": []
  },
  {
   "cell_type": "code",
   "execution_count": null,
   "metadata": {},
   "outputs": [],
   "source": []
  },
  {
   "cell_type": "code",
   "execution_count": null,
   "metadata": {},
   "outputs": [],
   "source": []
  },
  {
   "cell_type": "code",
   "execution_count": null,
   "metadata": {},
   "outputs": [],
   "source": []
  },
  {
   "cell_type": "code",
   "execution_count": null,
   "metadata": {},
   "outputs": [],
   "source": []
  },
  {
   "cell_type": "code",
   "execution_count": null,
   "metadata": {},
   "outputs": [],
   "source": [
    "import random\n",
    "import stddraw\n",
    "\n",
    "n=int(input('n:'))\n",
    "\n",
    "stddraw.setXscale(0,n)\n",
    "stddraw.setYscale(0,n)\n",
    "stddraw.setPenRadius(.09) \n",
    "\n",
    "f_array=[[False]*n for i in range(n)]\n",
    "\n",
    "x,y = n//2,n//2\n",
    "\n",
    "dead_ends=0\n",
    "\n",
    "while 0<x<n-1 and 0<y<n-1:\n",
    "    if f_array[x-1][y] & f_array[x+1][y] and f_array[x][y-1] and f_array[x][y+1]:\n",
    "        dead_ends +=1\n",
    "        break\n",
    "    \n",
    "    f_array[x][y] = True\n",
    "    \n",
    "    r=random.randint(1,4)\n",
    "    \n",
    "    if r==1:\n",
    "        if not f_array[x-1][y] : \n",
    "            stddraw.line(x,y,x-1,y)\n",
    "            stddraw.show(500) \n",
    "            x-=1\n",
    "            \n",
    "            \n",
    "    elif r==2:\n",
    "        if not f_array[x+1][y] : \n",
    "            stddraw.line(x,y,x+1,y)\n",
    "            stddraw.show(500) \n",
    "            x+=1\n",
    "            \n",
    "    \n",
    "    elif r==3:\n",
    "        if not f_array[x][y-1] : \n",
    "            stddraw.line(x,y,x,y-1)\n",
    "            stddraw.show(500) \n",
    "            y-=1\n",
    "            \n",
    "    \n",
    "    elif r==4:\n",
    "        if not f_array[x][y+1] : \n",
    "            stddraw.line(x,y,x,y+1)\n",
    "            stddraw.show(500) \n",
    "            y+=1\n",
    "            \n",
    "stddraw.show()        \n",
    "\n",
    "    "
   ]
  },
  {
   "cell_type": "code",
   "execution_count": null,
   "metadata": {},
   "outputs": [],
   "source": []
  },
  {
   "cell_type": "code",
   "execution_count": null,
   "metadata": {},
   "outputs": [],
   "source": []
  },
  {
   "cell_type": "code",
   "execution_count": null,
   "metadata": {},
   "outputs": [],
   "source": []
  }
 ],
 "metadata": {
  "kernelspec": {
   "display_name": "Python 3",
   "language": "python",
   "name": "python3"
  },
  "language_info": {
   "codemirror_mode": {
    "name": "ipython",
    "version": 3
   },
   "file_extension": ".py",
   "mimetype": "text/x-python",
   "name": "python",
   "nbconvert_exporter": "python",
   "pygments_lexer": "ipython3",
   "version": "3.8.5"
  }
 },
 "nbformat": 4,
 "nbformat_minor": 4
}
